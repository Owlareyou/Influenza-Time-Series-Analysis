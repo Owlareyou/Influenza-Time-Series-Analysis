#!/usr/bin/env python3
# -*- coding: utf-8 -*-
"""
Created on Thu Apr 11 15:47:13 2024

@author: jing
"""

import requests
import pprint as pp

api_key = '0cd8f3adb3ed73bfb7bd643d94419d3d'
url = f'http://api.openweathermap.org/geo/1.0/direct?q=London&limit=5&appid={api_key}'
